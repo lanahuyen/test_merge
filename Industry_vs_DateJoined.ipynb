{
 "cells": [
  {
   "cell_type": "markdown",
   "id": "f835b912-75ab-4018-940d-2e6c8ddc673e",
   "metadata": {},
   "source": [
    "Are there certain industries that have seen an increase in Unicorns joining over specific periods?\r\n"
   ]
  },
  {
   "cell_type": "code",
   "execution_count": null,
   "id": "52cc5177-9e67-40f0-9c2e-417a26179497",
   "metadata": {},
   "outputs": [],
   "source": [
    "# Import Dependenciews\n",
    "from matplotlib import pyplot as plt\n",
    "from scipy.stats import linregress\n",
    "import numpy as np\n",
    "from sklearn import datasets\n",
    "import pandas as pd"
   ]
  },
  {
   "cell_type": "code",
   "execution_count": null,
   "id": "f9de7365-2dc4-4f03-b33d-28e57181ffaa",
   "metadata": {},
   "outputs": [],
   "source": []
  }
 ],
 "metadata": {
  "kernelspec": {
   "display_name": "Python 3 (ipykernel)",
   "language": "python",
   "name": "python3"
  },
  "language_info": {
   "codemirror_mode": {
    "name": "ipython",
    "version": 3
   },
   "file_extension": ".py",
   "mimetype": "text/x-python",
   "name": "python",
   "nbconvert_exporter": "python",
   "pygments_lexer": "ipython3",
   "version": "3.10.14"
  }
 },
 "nbformat": 4,
 "nbformat_minor": 5
}
